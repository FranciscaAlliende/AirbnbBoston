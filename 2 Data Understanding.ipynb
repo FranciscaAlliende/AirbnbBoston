{
 "cells": [
  {
   "cell_type": "code",
   "execution_count": 1,
   "metadata": {},
   "outputs": [],
   "source": [
    "# libraries\n",
    "import pandas as pd\n",
    "import numpy as np\n",
    "\n",
    "import matplotlib.pyplot as plt\n",
    "import seaborn as sns"
   ]
  },
  {
   "cell_type": "code",
   "execution_count": 2,
   "metadata": {},
   "outputs": [
    {
     "name": "stdout",
     "output_type": "stream",
     "text": [
      "(3585, 68)\n"
     ]
    },
    {
     "data": {
      "text/html": [
       "<div>\n",
       "<style scoped>\n",
       "    .dataframe tbody tr th:only-of-type {\n",
       "        vertical-align: middle;\n",
       "    }\n",
       "\n",
       "    .dataframe tbody tr th {\n",
       "        vertical-align: top;\n",
       "    }\n",
       "\n",
       "    .dataframe thead th {\n",
       "        text-align: right;\n",
       "    }\n",
       "</style>\n",
       "<table border=\"1\" class=\"dataframe\">\n",
       "  <thead>\n",
       "    <tr style=\"text-align: right;\">\n",
       "      <th></th>\n",
       "      <th>price</th>\n",
       "      <th>neighbourhood</th>\n",
       "      <th>property_type</th>\n",
       "      <th>room_type</th>\n",
       "      <th>accommodates</th>\n",
       "      <th>bathrooms</th>\n",
       "      <th>bedrooms</th>\n",
       "      <th>beds</th>\n",
       "      <th>bed_type</th>\n",
       "      <th>square_feet</th>\n",
       "      <th>...</th>\n",
       "      <th>Safety Card</th>\n",
       "      <th>Shampoo</th>\n",
       "      <th>Smoke Detector</th>\n",
       "      <th>Smoking Allowed</th>\n",
       "      <th>Suitable for Events</th>\n",
       "      <th>TV</th>\n",
       "      <th>Washer</th>\n",
       "      <th>Washer / Dryer</th>\n",
       "      <th>Wheelchair Accessible</th>\n",
       "      <th>Wireless Internet</th>\n",
       "    </tr>\n",
       "  </thead>\n",
       "  <tbody>\n",
       "    <tr>\n",
       "      <th>0</th>\n",
       "      <td>250.0</td>\n",
       "      <td>Roslindale</td>\n",
       "      <td>House</td>\n",
       "      <td>Entire home/apt</td>\n",
       "      <td>4</td>\n",
       "      <td>1.5</td>\n",
       "      <td>2.0</td>\n",
       "      <td>3.0</td>\n",
       "      <td>Real Bed</td>\n",
       "      <td>NaN</td>\n",
       "      <td>...</td>\n",
       "      <td>0</td>\n",
       "      <td>1</td>\n",
       "      <td>1</td>\n",
       "      <td>0</td>\n",
       "      <td>0</td>\n",
       "      <td>1</td>\n",
       "      <td>1</td>\n",
       "      <td>0</td>\n",
       "      <td>0</td>\n",
       "      <td>1</td>\n",
       "    </tr>\n",
       "    <tr>\n",
       "      <th>1</th>\n",
       "      <td>65.0</td>\n",
       "      <td>Roslindale</td>\n",
       "      <td>Apartment</td>\n",
       "      <td>Private room</td>\n",
       "      <td>2</td>\n",
       "      <td>1.0</td>\n",
       "      <td>1.0</td>\n",
       "      <td>1.0</td>\n",
       "      <td>Real Bed</td>\n",
       "      <td>NaN</td>\n",
       "      <td>...</td>\n",
       "      <td>0</td>\n",
       "      <td>1</td>\n",
       "      <td>1</td>\n",
       "      <td>0</td>\n",
       "      <td>0</td>\n",
       "      <td>1</td>\n",
       "      <td>1</td>\n",
       "      <td>0</td>\n",
       "      <td>0</td>\n",
       "      <td>1</td>\n",
       "    </tr>\n",
       "    <tr>\n",
       "      <th>2</th>\n",
       "      <td>65.0</td>\n",
       "      <td>Roslindale</td>\n",
       "      <td>Apartment</td>\n",
       "      <td>Private room</td>\n",
       "      <td>2</td>\n",
       "      <td>1.0</td>\n",
       "      <td>1.0</td>\n",
       "      <td>1.0</td>\n",
       "      <td>Real Bed</td>\n",
       "      <td>NaN</td>\n",
       "      <td>...</td>\n",
       "      <td>1</td>\n",
       "      <td>1</td>\n",
       "      <td>1</td>\n",
       "      <td>0</td>\n",
       "      <td>0</td>\n",
       "      <td>1</td>\n",
       "      <td>1</td>\n",
       "      <td>0</td>\n",
       "      <td>0</td>\n",
       "      <td>1</td>\n",
       "    </tr>\n",
       "    <tr>\n",
       "      <th>3</th>\n",
       "      <td>75.0</td>\n",
       "      <td>Roslindale</td>\n",
       "      <td>House</td>\n",
       "      <td>Private room</td>\n",
       "      <td>4</td>\n",
       "      <td>1.0</td>\n",
       "      <td>1.0</td>\n",
       "      <td>2.0</td>\n",
       "      <td>Real Bed</td>\n",
       "      <td>NaN</td>\n",
       "      <td>...</td>\n",
       "      <td>1</td>\n",
       "      <td>1</td>\n",
       "      <td>1</td>\n",
       "      <td>0</td>\n",
       "      <td>0</td>\n",
       "      <td>1</td>\n",
       "      <td>1</td>\n",
       "      <td>0</td>\n",
       "      <td>0</td>\n",
       "      <td>1</td>\n",
       "    </tr>\n",
       "    <tr>\n",
       "      <th>4</th>\n",
       "      <td>79.0</td>\n",
       "      <td>Roslindale</td>\n",
       "      <td>House</td>\n",
       "      <td>Private room</td>\n",
       "      <td>2</td>\n",
       "      <td>1.5</td>\n",
       "      <td>1.0</td>\n",
       "      <td>2.0</td>\n",
       "      <td>Real Bed</td>\n",
       "      <td>NaN</td>\n",
       "      <td>...</td>\n",
       "      <td>0</td>\n",
       "      <td>1</td>\n",
       "      <td>1</td>\n",
       "      <td>0</td>\n",
       "      <td>0</td>\n",
       "      <td>0</td>\n",
       "      <td>0</td>\n",
       "      <td>0</td>\n",
       "      <td>0</td>\n",
       "      <td>1</td>\n",
       "    </tr>\n",
       "  </tbody>\n",
       "</table>\n",
       "<p>5 rows × 68 columns</p>\n",
       "</div>"
      ],
      "text/plain": [
       "   price neighbourhood property_type        room_type  accommodates  \\\n",
       "0  250.0    Roslindale         House  Entire home/apt             4   \n",
       "1   65.0    Roslindale     Apartment     Private room             2   \n",
       "2   65.0    Roslindale     Apartment     Private room             2   \n",
       "3   75.0    Roslindale         House     Private room             4   \n",
       "4   79.0    Roslindale         House     Private room             2   \n",
       "\n",
       "   bathrooms  bedrooms  beds  bed_type  square_feet  ... Safety Card  Shampoo  \\\n",
       "0        1.5       2.0   3.0  Real Bed          NaN  ...           0        1   \n",
       "1        1.0       1.0   1.0  Real Bed          NaN  ...           0        1   \n",
       "2        1.0       1.0   1.0  Real Bed          NaN  ...           1        1   \n",
       "3        1.0       1.0   2.0  Real Bed          NaN  ...           1        1   \n",
       "4        1.5       1.0   2.0  Real Bed          NaN  ...           0        1   \n",
       "\n",
       "  Smoke Detector  Smoking Allowed  Suitable for Events TV Washer  \\\n",
       "0              1                0                    0  1      1   \n",
       "1              1                0                    0  1      1   \n",
       "2              1                0                    0  1      1   \n",
       "3              1                0                    0  1      1   \n",
       "4              1                0                    0  0      0   \n",
       "\n",
       "   Washer / Dryer  Wheelchair Accessible  Wireless Internet  \n",
       "0               0                      0                  1  \n",
       "1               0                      0                  1  \n",
       "2               0                      0                  1  \n",
       "3               0                      0                  1  \n",
       "4               0                      0                  1  \n",
       "\n",
       "[5 rows x 68 columns]"
      ]
     },
     "execution_count": 2,
     "metadata": {},
     "output_type": "execute_result"
    }
   ],
   "source": [
    "# import dataset\n",
    "data = pd.read_csv('data/Boston/result.csv')\n",
    "print(data.shape)\n",
    "data.head()"
   ]
  },
  {
   "cell_type": "markdown",
   "metadata": {},
   "source": [
    "### The variable of interest: price or price per accommodate?\n",
    "\n",
    "Comments:\n",
    "* The price has a right skewed distribution\n",
    "* The are outliers that needs to be reviewed\n",
    "* Price per accommodate seems a better variable of interest than just price "
   ]
  },
  {
   "cell_type": "code",
   "execution_count": 3,
   "metadata": {},
   "outputs": [
    {
     "data": {
      "image/png": "[encoded data removed]",
      "text/plain": [
       "<Figure size 432x288 with 1 Axes>"
      ]
     },
     "metadata": {
      "needs_background": "light"
     },
     "output_type": "display_data"
    }
   ],
   "source": [
    "# price histogram\n",
    "data['price'].hist()\n",
    "plt.title('Price histogram')\n",
    "plt.savefig('figures/price_hist.png')\n",
    "plt.show()"
   ]
  },
  {
   "cell_type": "code",
   "execution_count": 4,
   "metadata": {},
   "outputs": [],
   "source": [
    "# create the variable price per accommodate\n",
    "data['ppa'] = data['price']/data['accommodates']"
   ]
  },
  {
   "cell_type": "code",
   "execution_count": 5,
   "metadata": {},
   "outputs": [
    {
     "data": {
      "image/png": "[encoded data removed]",
      "text/plain": [
       "<Figure size 432x288 with 1 Axes>"
      ]
     },
     "metadata": {
      "needs_background": "light"
     },
     "output_type": "display_data"
    }
   ],
   "source": [
    "# price per accommodate histogram\n",
    "data['ppa'].hist(color='red')\n",
    "plt.title('Price per accommodate histogram')\n",
    "plt.savefig('figures/ppa_hist.png')\n",
    "plt.show()"
   ]
  },
  {
   "cell_type": "code",
   "execution_count": 6,
   "metadata": {},
   "outputs": [
    {
     "data": {
      "image/png": "[encoded data removed]",
      "text/plain": [
       "<Figure size 432x288 with 1 Axes>"
      ]
     },
     "metadata": {
      "needs_background": "light"
     },
     "output_type": "display_data"
    }
   ],
   "source": [
    "# price per accommodate histogram, considering only values under 300\n",
    "data[data['ppa']<300]['ppa'].hist(color='red')\n",
    "plt.title('Price per accommodate < 300 histogram ')\n",
    "plt.savefig('figures/ppa_hist_under300.png')\n",
    "plt.show()"
   ]
  },
  {
   "cell_type": "markdown",
   "metadata": {},
   "source": [
    "### Numerical features"
   ]
  },
  {
   "cell_type": "code",
   "execution_count": 7,
   "metadata": {},
   "outputs": [],
   "source": [
    "# select the numerical features\n",
    "numerical = data.select_dtypes(include=['float64', 'int64'])\n",
    "numerical = numerical[numerical.columns[2:17]]"
   ]
  },
  {
   "cell_type": "code",
   "execution_count": 8,
   "metadata": {},
   "outputs": [
    {
     "data": {
      "text/html": [
       "<div>\n",
       "<style scoped>\n",
       "    .dataframe tbody tr th:only-of-type {\n",
       "        vertical-align: middle;\n",
       "    }\n",
       "\n",
       "    .dataframe tbody tr th {\n",
       "        vertical-align: top;\n",
       "    }\n",
       "\n",
       "    .dataframe thead th {\n",
       "        text-align: right;\n",
       "    }\n",
       "</style>\n",
       "<table border=\"1\" class=\"dataframe\">\n",
       "  <thead>\n",
       "    <tr style=\"text-align: right;\">\n",
       "      <th></th>\n",
       "      <th>numerical features</th>\n",
       "      <th>% of null values</th>\n",
       "    </tr>\n",
       "  </thead>\n",
       "  <tbody>\n",
       "    <tr>\n",
       "      <th>0</th>\n",
       "      <td>square_feet</td>\n",
       "      <td>0.984379</td>\n",
       "    </tr>\n",
       "    <tr>\n",
       "      <th>1</th>\n",
       "      <td>review_scores_accuracy</td>\n",
       "      <td>0.229568</td>\n",
       "    </tr>\n",
       "    <tr>\n",
       "      <th>2</th>\n",
       "      <td>review_scores_location</td>\n",
       "      <td>0.229289</td>\n",
       "    </tr>\n",
       "    <tr>\n",
       "      <th>3</th>\n",
       "      <td>review_scores_value</td>\n",
       "      <td>0.229010</td>\n",
       "    </tr>\n",
       "    <tr>\n",
       "      <th>4</th>\n",
       "      <td>review_scores_checkin</td>\n",
       "      <td>0.228731</td>\n",
       "    </tr>\n",
       "    <tr>\n",
       "      <th>5</th>\n",
       "      <td>review_scores_cleanliness</td>\n",
       "      <td>0.228173</td>\n",
       "    </tr>\n",
       "    <tr>\n",
       "      <th>6</th>\n",
       "      <td>review_scores_communication</td>\n",
       "      <td>0.228173</td>\n",
       "    </tr>\n",
       "    <tr>\n",
       "      <th>7</th>\n",
       "      <td>reviews_per_month</td>\n",
       "      <td>0.210879</td>\n",
       "    </tr>\n",
       "    <tr>\n",
       "      <th>8</th>\n",
       "      <td>host_response_rate</td>\n",
       "      <td>0.131381</td>\n",
       "    </tr>\n",
       "    <tr>\n",
       "      <th>9</th>\n",
       "      <td>host_acceptance_rate</td>\n",
       "      <td>0.131381</td>\n",
       "    </tr>\n",
       "    <tr>\n",
       "      <th>10</th>\n",
       "      <td>bathrooms</td>\n",
       "      <td>0.003905</td>\n",
       "    </tr>\n",
       "    <tr>\n",
       "      <th>11</th>\n",
       "      <td>bedrooms</td>\n",
       "      <td>0.002789</td>\n",
       "    </tr>\n",
       "    <tr>\n",
       "      <th>12</th>\n",
       "      <td>beds</td>\n",
       "      <td>0.002510</td>\n",
       "    </tr>\n",
       "    <tr>\n",
       "      <th>13</th>\n",
       "      <td>host_since</td>\n",
       "      <td>0.000000</td>\n",
       "    </tr>\n",
       "    <tr>\n",
       "      <th>14</th>\n",
       "      <td>number_of_reviews</td>\n",
       "      <td>0.000000</td>\n",
       "    </tr>\n",
       "  </tbody>\n",
       "</table>\n",
       "</div>"
      ],
      "text/plain": [
       "             numerical features  % of null values\n",
       "0                   square_feet          0.984379\n",
       "1        review_scores_accuracy          0.229568\n",
       "2        review_scores_location          0.229289\n",
       "3           review_scores_value          0.229010\n",
       "4         review_scores_checkin          0.228731\n",
       "5     review_scores_cleanliness          0.228173\n",
       "6   review_scores_communication          0.228173\n",
       "7             reviews_per_month          0.210879\n",
       "8            host_response_rate          0.131381\n",
       "9          host_acceptance_rate          0.131381\n",
       "10                    bathrooms          0.003905\n",
       "11                     bedrooms          0.002789\n",
       "12                         beds          0.002510\n",
       "13                   host_since          0.000000\n",
       "14            number_of_reviews          0.000000"
      ]
     },
     "execution_count": 8,
     "metadata": {},
     "output_type": "execute_result"
    }
   ],
   "source": [
    "# percentage of null values per column in numerical variables\n",
    "null_numerical = pd.DataFrame(numerical.isnull().sum()/numerical.shape[0]).reset_index()\n",
    "null_numerical.columns = ['numerical features', '% of null values']\n",
    "null_numerical = null_numerical.sort_values(by='% of null values', ascending=False)\n",
    "null_numerical = null_numerical.reset_index(drop=True)\n",
    "null_numerical"
   ]
  },
  {
   "cell_type": "code",
   "execution_count": 9,
   "metadata": {},
   "outputs": [
    {
     "data": {
      "image/png": "[encoded data removed]",
      "text/plain": [
       "<Figure size 432x288 with 1 Axes>"
      ]
     },
     "metadata": {
      "needs_background": "light"
     },
     "output_type": "display_data"
    }
   ],
   "source": [
    "# plot % of null values in numercial variables\n",
    "null_numerical.plot.barh(x='numerical features', y='% of null values', color='green')\n",
    "plt.savefig('figures/null_numerical.png', bbox_inches='tight')\n",
    "plt.show()"
   ]
  },
  {
   "cell_type": "code",
   "execution_count": 10,
   "metadata": {},
   "outputs": [
    {
     "data": {
      "image/png": "[encoded data removed]",
      "text/plain": [
       "<Figure size 720x720 with 16 Axes>"
      ]
     },
     "metadata": {
      "needs_background": "light"
     },
     "output_type": "display_data"
    }
   ],
   "source": [
    "# histograms numerical variables\n",
    "numerical.hist(figsize=(10, 10))\n",
    "plt.tight_layout()\n",
    "plt.savefig('figures/numerical_hist.png')"
   ]
  },
  {
   "cell_type": "markdown",
   "metadata": {},
   "source": [
    "### Categorical features"
   ]
  },
  {
   "cell_type": "code",
   "execution_count": 11,
   "metadata": {},
   "outputs": [
    {
     "data": {
      "text/html": [
       "<div>\n",
       "<style scoped>\n",
       "    .dataframe tbody tr th:only-of-type {\n",
       "        vertical-align: middle;\n",
       "    }\n",
       "\n",
       "    .dataframe tbody tr th {\n",
       "        vertical-align: top;\n",
       "    }\n",
       "\n",
       "    .dataframe thead th {\n",
       "        text-align: right;\n",
       "    }\n",
       "</style>\n",
       "<table border=\"1\" class=\"dataframe\">\n",
       "  <thead>\n",
       "    <tr style=\"text-align: right;\">\n",
       "      <th></th>\n",
       "      <th>neighbourhood</th>\n",
       "      <th>property_type</th>\n",
       "      <th>room_type</th>\n",
       "      <th>bed_type</th>\n",
       "      <th>cancellation_policy</th>\n",
       "      <th>host_response_time</th>\n",
       "      <th>host_is_superhost</th>\n",
       "      <th>host_identity_verified</th>\n",
       "    </tr>\n",
       "  </thead>\n",
       "  <tbody>\n",
       "    <tr>\n",
       "      <th>0</th>\n",
       "      <td>Roslindale</td>\n",
       "      <td>House</td>\n",
       "      <td>Entire home/apt</td>\n",
       "      <td>Real Bed</td>\n",
       "      <td>moderate</td>\n",
       "      <td>NaN</td>\n",
       "      <td>f</td>\n",
       "      <td>f</td>\n",
       "    </tr>\n",
       "    <tr>\n",
       "      <th>1</th>\n",
       "      <td>Roslindale</td>\n",
       "      <td>Apartment</td>\n",
       "      <td>Private room</td>\n",
       "      <td>Real Bed</td>\n",
       "      <td>moderate</td>\n",
       "      <td>within an hour</td>\n",
       "      <td>f</td>\n",
       "      <td>t</td>\n",
       "    </tr>\n",
       "    <tr>\n",
       "      <th>2</th>\n",
       "      <td>Roslindale</td>\n",
       "      <td>Apartment</td>\n",
       "      <td>Private room</td>\n",
       "      <td>Real Bed</td>\n",
       "      <td>moderate</td>\n",
       "      <td>within a few hours</td>\n",
       "      <td>t</td>\n",
       "      <td>t</td>\n",
       "    </tr>\n",
       "    <tr>\n",
       "      <th>3</th>\n",
       "      <td>Roslindale</td>\n",
       "      <td>House</td>\n",
       "      <td>Private room</td>\n",
       "      <td>Real Bed</td>\n",
       "      <td>moderate</td>\n",
       "      <td>within a few hours</td>\n",
       "      <td>f</td>\n",
       "      <td>f</td>\n",
       "    </tr>\n",
       "    <tr>\n",
       "      <th>4</th>\n",
       "      <td>Roslindale</td>\n",
       "      <td>House</td>\n",
       "      <td>Private room</td>\n",
       "      <td>Real Bed</td>\n",
       "      <td>flexible</td>\n",
       "      <td>within an hour</td>\n",
       "      <td>t</td>\n",
       "      <td>t</td>\n",
       "    </tr>\n",
       "  </tbody>\n",
       "</table>\n",
       "</div>"
      ],
      "text/plain": [
       "  neighbourhood property_type        room_type  bed_type cancellation_policy  \\\n",
       "0    Roslindale         House  Entire home/apt  Real Bed            moderate   \n",
       "1    Roslindale     Apartment     Private room  Real Bed            moderate   \n",
       "2    Roslindale     Apartment     Private room  Real Bed            moderate   \n",
       "3    Roslindale         House     Private room  Real Bed            moderate   \n",
       "4    Roslindale         House     Private room  Real Bed            flexible   \n",
       "\n",
       "   host_response_time host_is_superhost host_identity_verified  \n",
       "0                 NaN                 f                      f  \n",
       "1      within an hour                 f                      t  \n",
       "2  within a few hours                 t                      t  \n",
       "3  within a few hours                 f                      f  \n",
       "4      within an hour                 t                      t  "
      ]
     },
     "execution_count": 11,
     "metadata": {},
     "output_type": "execute_result"
    }
   ],
   "source": [
    "# select categorical features\n",
    "cat = data.select_dtypes(exclude=['float64', 'int64'])\n",
    "cat.head()"
   ]
  },
  {
   "cell_type": "code",
   "execution_count": 12,
   "metadata": {},
   "outputs": [
    {
     "data": {
      "text/html": [
       "<div>\n",
       "<style scoped>\n",
       "    .dataframe tbody tr th:only-of-type {\n",
       "        vertical-align: middle;\n",
       "    }\n",
       "\n",
       "    .dataframe tbody tr th {\n",
       "        vertical-align: top;\n",
       "    }\n",
       "\n",
       "    .dataframe thead th {\n",
       "        text-align: right;\n",
       "    }\n",
       "</style>\n",
       "<table border=\"1\" class=\"dataframe\">\n",
       "  <thead>\n",
       "    <tr style=\"text-align: right;\">\n",
       "      <th></th>\n",
       "      <th>categorical features</th>\n",
       "      <th>% of null values</th>\n",
       "    </tr>\n",
       "  </thead>\n",
       "  <tbody>\n",
       "    <tr>\n",
       "      <th>0</th>\n",
       "      <td>host_response_time</td>\n",
       "      <td>0.131381</td>\n",
       "    </tr>\n",
       "    <tr>\n",
       "      <th>1</th>\n",
       "      <td>property_type</td>\n",
       "      <td>0.000837</td>\n",
       "    </tr>\n",
       "    <tr>\n",
       "      <th>2</th>\n",
       "      <td>neighbourhood</td>\n",
       "      <td>0.000000</td>\n",
       "    </tr>\n",
       "    <tr>\n",
       "      <th>3</th>\n",
       "      <td>room_type</td>\n",
       "      <td>0.000000</td>\n",
       "    </tr>\n",
       "    <tr>\n",
       "      <th>4</th>\n",
       "      <td>bed_type</td>\n",
       "      <td>0.000000</td>\n",
       "    </tr>\n",
       "    <tr>\n",
       "      <th>5</th>\n",
       "      <td>cancellation_policy</td>\n",
       "      <td>0.000000</td>\n",
       "    </tr>\n",
       "    <tr>\n",
       "      <th>6</th>\n",
       "      <td>host_is_superhost</td>\n",
       "      <td>0.000000</td>\n",
       "    </tr>\n",
       "    <tr>\n",
       "      <th>7</th>\n",
       "      <td>host_identity_verified</td>\n",
       "      <td>0.000000</td>\n",
       "    </tr>\n",
       "  </tbody>\n",
       "</table>\n",
       "</div>"
      ],
      "text/plain": [
       "     categorical features  % of null values\n",
       "0      host_response_time          0.131381\n",
       "1           property_type          0.000837\n",
       "2           neighbourhood          0.000000\n",
       "3               room_type          0.000000\n",
       "4                bed_type          0.000000\n",
       "5     cancellation_policy          0.000000\n",
       "6       host_is_superhost          0.000000\n",
       "7  host_identity_verified          0.000000"
      ]
     },
     "execution_count": 12,
     "metadata": {},
     "output_type": "execute_result"
    }
   ],
   "source": [
    "# calculate the percentage of null values per column un categorical features\n",
    "cat_null = pd.DataFrame(cat.isnull().sum()/cat.shape[0]).reset_index()\n",
    "cat_null.columns = ['categorical features', '% of null values']\n",
    "cat_null = cat_null.sort_values(by='% of null values', ascending=False)\n",
    "cat_null = cat_null.reset_index(drop=True)\n",
    "cat_null"
   ]
  },
  {
   "cell_type": "code",
   "execution_count": 13,
   "metadata": {},
   "outputs": [
    {
     "data": {
      "image/png": "[encoded data removed]",
      "text/plain": [
       "<Figure size 432x288 with 1 Axes>"
      ]
     },
     "metadata": {
      "needs_background": "light"
     },
     "output_type": "display_data"
    }
   ],
   "source": [
    "# plot of percentage of null values in categorical features\n",
    "cat_null.plot.barh(x='categorical features', y='% of null values', color='m')\n",
    "plt.savefig('figures/null_cat.png', bbox_inches='tight')\n",
    "plt.show()"
   ]
  },
  {
   "cell_type": "code",
   "execution_count": 14,
   "metadata": {},
   "outputs": [
    {
     "data": {
      "image/png": "[encoded data removed]",
      "text/plain": [
       "<Figure size 576x288 with 1 Axes>"
      ]
     },
     "metadata": {
      "needs_background": "light"
     },
     "output_type": "display_data"
    },
    {
     "name": "stdout",
     "output_type": "stream",
     "text": [
      "              neighbourhood  n observations\n",
      "0             Jamaica Plain             343\n",
      "1                 South End             326\n",
      "2                  Back Bay             302\n",
      "3                    Fenway             290\n",
      "4                Dorchester             269\n",
      "5                   Allston             260\n",
      "6               Beacon Hill             194\n",
      "7                  Brighton             185\n",
      "8              South Boston             174\n",
      "9                  Downtown             172\n",
      "10              East Boston             150\n",
      "11                  Roxbury             144\n",
      "12                North End             143\n",
      "13             Mission Hill             124\n",
      "14              Charlestown             111\n",
      "15  South Boston Waterfront              83\n",
      "16                Chinatown              71\n",
      "17               Roslindale              56\n",
      "18                 West End              49\n",
      "19             West Roxbury              46\n",
      "20                Hyde Park              31\n",
      "21              Bay Village              24\n",
      "22                 Mattapan              24\n",
      "23    Longwood Medical Area               9\n",
      "24         Leather District               5\n"
     ]
    },
    {
     "data": {
      "image/png": "[encoded data removed]",
      "text/plain": [
       "<Figure size 576x288 with 1 Axes>"
      ]
     },
     "metadata": {
      "needs_background": "light"
     },
     "output_type": "display_data"
    },
    {
     "name": "stdout",
     "output_type": "stream",
     "text": [
      "      property_type  n observations\n",
      "0         Apartment            2612\n",
      "1             House             562\n",
      "2       Condominium             231\n",
      "3         Townhouse              54\n",
      "4   Bed & Breakfast              41\n",
      "5              Loft              39\n",
      "6             Other              17\n",
      "7              Boat              12\n",
      "8             Villa               6\n",
      "9      Entire Floor               4\n",
      "10             Dorm               2\n",
      "11        Camper/RV               1\n",
      "12       Guesthouse               1\n"
     ]
    },
    {
     "data": {
      "image/png": "[encoded data removed]",
      "text/plain": [
       "<Figure size 576x288 with 1 Axes>"
      ]
     },
     "metadata": {
      "needs_background": "light"
     },
     "output_type": "display_data"
    },
    {
     "name": "stdout",
     "output_type": "stream",
     "text": [
      "         room_type  n observations\n",
      "0  Entire home/apt            2125\n",
      "1     Private room            1377\n",
      "2      Shared room              80\n"
     ]
    },
    {
     "data": {
      "image/png": "[encoded data removed]",
      "text/plain": [
       "<Figure size 576x288 with 1 Axes>"
      ]
     },
     "metadata": {
      "needs_background": "light"
     },
     "output_type": "display_data"
    },
    {
     "name": "stdout",
     "output_type": "stream",
     "text": [
      "        bed_type  n observations\n",
      "0       Real Bed            3450\n",
      "1          Futon              51\n",
      "2         Airbed              40\n",
      "3  Pull-out Sofa              31\n",
      "4          Couch              10\n"
     ]
    },
    {
     "data": {
      "image/png": "[encoded data removed]",
      "text/plain": [
       "<Figure size 576x288 with 1 Axes>"
      ]
     },
     "metadata": {
      "needs_background": "light"
     },
     "output_type": "display_data"
    },
    {
     "name": "stdout",
     "output_type": "stream",
     "text": [
      "  cancellation_policy  n observations\n",
      "0              strict            1580\n",
      "1            flexible             999\n",
      "2            moderate             918\n",
      "3     super_strict_30              85\n"
     ]
    },
    {
     "data": {
      "image/png": "[encoded data removed]",
      "text/plain": [
       "<Figure size 576x288 with 1 Axes>"
      ]
     },
     "metadata": {
      "needs_background": "light"
     },
     "output_type": "display_data"
    },
    {
     "name": "stdout",
     "output_type": "stream",
     "text": [
      "   host_response_time  n observations\n",
      "0      within an hour            1384\n",
      "1  within a few hours            1217\n",
      "2        within a day             468\n",
      "3  a few days or more              43\n"
     ]
    },
    {
     "data": {
      "image/png": "[encoded data removed]",
      "text/plain": [
       "<Figure size 576x288 with 1 Axes>"
      ]
     },
     "metadata": {
      "needs_background": "light"
     },
     "output_type": "display_data"
    },
    {
     "name": "stdout",
     "output_type": "stream",
     "text": [
      "  host_is_superhost  n observations\n",
      "0                 f            3175\n",
      "1                 t             407\n"
     ]
    },
    {
     "data": {
      "image/png": "[encoded data removed]",
      "text/plain": [
       "<Figure size 576x288 with 1 Axes>"
      ]
     },
     "metadata": {
      "needs_background": "light"
     },
     "output_type": "display_data"
    },
    {
     "name": "stdout",
     "output_type": "stream",
     "text": [
      "  host_identity_verified  n observations\n",
      "0                      t            2601\n",
      "1                      f             981\n"
     ]
    }
   ],
   "source": [
    "# plot of number of observations per category in categorical features\n",
    "for col in cat.columns:\n",
    "    group = cat.groupby(col).count()\n",
    "    group = pd.DataFrame(group.iloc[:,1]).reset_index()\n",
    "    group.columns = [col, 'n observations']\n",
    "    group = group.sort_values(by='n observations', ascending=False)\n",
    "    group = group.reset_index(drop=True)\n",
    "    # plot\n",
    "    group.plot.barh(x=col, y='n observations', color='orange', figsize=(8,4))\n",
    "    plt.tight_layout()\n",
    "    plt.savefig('figures/n_observations_'+col+'.png')\n",
    "    plt.show()\n",
    "    print(group)"
   ]
  },
  {
   "cell_type": "markdown",
   "metadata": {},
   "source": [
    "### Amenities"
   ]
  },
  {
   "cell_type": "code",
   "execution_count": 15,
   "metadata": {},
   "outputs": [
    {
     "data": {
      "text/html": [
       "<div>\n",
       "<style scoped>\n",
       "    .dataframe tbody tr th:only-of-type {\n",
       "        vertical-align: middle;\n",
       "    }\n",
       "\n",
       "    .dataframe tbody tr th {\n",
       "        vertical-align: top;\n",
       "    }\n",
       "\n",
       "    .dataframe thead th {\n",
       "        text-align: right;\n",
       "    }\n",
       "</style>\n",
       "<table border=\"1\" class=\"dataframe\">\n",
       "  <thead>\n",
       "    <tr style=\"text-align: right;\">\n",
       "      <th></th>\n",
       "      <th>24-Hour Check-in</th>\n",
       "      <th>Air Conditioning</th>\n",
       "      <th>Breakfast</th>\n",
       "      <th>Buzzer/Wireless Intercom</th>\n",
       "      <th>Cable TV</th>\n",
       "      <th>Carbon Monoxide Detector</th>\n",
       "      <th>Cat(s)</th>\n",
       "      <th>Dog(s)</th>\n",
       "      <th>Doorman</th>\n",
       "      <th>Dryer</th>\n",
       "      <th>...</th>\n",
       "      <th>Safety Card</th>\n",
       "      <th>Shampoo</th>\n",
       "      <th>Smoke Detector</th>\n",
       "      <th>Smoking Allowed</th>\n",
       "      <th>Suitable for Events</th>\n",
       "      <th>TV</th>\n",
       "      <th>Washer</th>\n",
       "      <th>Washer / Dryer</th>\n",
       "      <th>Wheelchair Accessible</th>\n",
       "      <th>Wireless Internet</th>\n",
       "    </tr>\n",
       "  </thead>\n",
       "  <tbody>\n",
       "    <tr>\n",
       "      <th>0</th>\n",
       "      <td>0</td>\n",
       "      <td>0</td>\n",
       "      <td>0</td>\n",
       "      <td>0</td>\n",
       "      <td>0</td>\n",
       "      <td>0</td>\n",
       "      <td>0</td>\n",
       "      <td>1</td>\n",
       "      <td>0</td>\n",
       "      <td>1</td>\n",
       "      <td>...</td>\n",
       "      <td>0</td>\n",
       "      <td>1</td>\n",
       "      <td>1</td>\n",
       "      <td>0</td>\n",
       "      <td>0</td>\n",
       "      <td>1</td>\n",
       "      <td>1</td>\n",
       "      <td>0</td>\n",
       "      <td>0</td>\n",
       "      <td>1</td>\n",
       "    </tr>\n",
       "    <tr>\n",
       "      <th>1</th>\n",
       "      <td>0</td>\n",
       "      <td>1</td>\n",
       "      <td>0</td>\n",
       "      <td>0</td>\n",
       "      <td>0</td>\n",
       "      <td>1</td>\n",
       "      <td>0</td>\n",
       "      <td>1</td>\n",
       "      <td>0</td>\n",
       "      <td>1</td>\n",
       "      <td>...</td>\n",
       "      <td>0</td>\n",
       "      <td>1</td>\n",
       "      <td>1</td>\n",
       "      <td>0</td>\n",
       "      <td>0</td>\n",
       "      <td>1</td>\n",
       "      <td>1</td>\n",
       "      <td>0</td>\n",
       "      <td>0</td>\n",
       "      <td>1</td>\n",
       "    </tr>\n",
       "    <tr>\n",
       "      <th>2</th>\n",
       "      <td>0</td>\n",
       "      <td>1</td>\n",
       "      <td>0</td>\n",
       "      <td>0</td>\n",
       "      <td>1</td>\n",
       "      <td>1</td>\n",
       "      <td>0</td>\n",
       "      <td>0</td>\n",
       "      <td>0</td>\n",
       "      <td>1</td>\n",
       "      <td>...</td>\n",
       "      <td>1</td>\n",
       "      <td>1</td>\n",
       "      <td>1</td>\n",
       "      <td>0</td>\n",
       "      <td>0</td>\n",
       "      <td>1</td>\n",
       "      <td>1</td>\n",
       "      <td>0</td>\n",
       "      <td>0</td>\n",
       "      <td>1</td>\n",
       "    </tr>\n",
       "    <tr>\n",
       "      <th>3</th>\n",
       "      <td>0</td>\n",
       "      <td>1</td>\n",
       "      <td>1</td>\n",
       "      <td>0</td>\n",
       "      <td>0</td>\n",
       "      <td>1</td>\n",
       "      <td>0</td>\n",
       "      <td>0</td>\n",
       "      <td>0</td>\n",
       "      <td>1</td>\n",
       "      <td>...</td>\n",
       "      <td>1</td>\n",
       "      <td>1</td>\n",
       "      <td>1</td>\n",
       "      <td>0</td>\n",
       "      <td>0</td>\n",
       "      <td>1</td>\n",
       "      <td>1</td>\n",
       "      <td>0</td>\n",
       "      <td>0</td>\n",
       "      <td>1</td>\n",
       "    </tr>\n",
       "    <tr>\n",
       "      <th>4</th>\n",
       "      <td>0</td>\n",
       "      <td>1</td>\n",
       "      <td>1</td>\n",
       "      <td>0</td>\n",
       "      <td>0</td>\n",
       "      <td>1</td>\n",
       "      <td>0</td>\n",
       "      <td>0</td>\n",
       "      <td>0</td>\n",
       "      <td>0</td>\n",
       "      <td>...</td>\n",
       "      <td>0</td>\n",
       "      <td>1</td>\n",
       "      <td>1</td>\n",
       "      <td>0</td>\n",
       "      <td>0</td>\n",
       "      <td>0</td>\n",
       "      <td>0</td>\n",
       "      <td>0</td>\n",
       "      <td>0</td>\n",
       "      <td>1</td>\n",
       "    </tr>\n",
       "  </tbody>\n",
       "</table>\n",
       "<p>5 rows × 43 columns</p>\n",
       "</div>"
      ],
      "text/plain": [
       "   24-Hour Check-in  Air Conditioning  Breakfast  Buzzer/Wireless Intercom  \\\n",
       "0                 0                 0          0                         0   \n",
       "1                 0                 1          0                         0   \n",
       "2                 0                 1          0                         0   \n",
       "3                 0                 1          1                         0   \n",
       "4                 0                 1          1                         0   \n",
       "\n",
       "   Cable TV  Carbon Monoxide Detector  Cat(s)  Dog(s)  Doorman  Dryer  ...  \\\n",
       "0         0                         0       0       1        0      1  ...   \n",
       "1         0                         1       0       1        0      1  ...   \n",
       "2         1                         1       0       0        0      1  ...   \n",
       "3         0                         1       0       0        0      1  ...   \n",
       "4         0                         1       0       0        0      0  ...   \n",
       "\n",
       "   Safety Card  Shampoo  Smoke Detector  Smoking Allowed  Suitable for Events  \\\n",
       "0            0        1               1                0                    0   \n",
       "1            0        1               1                0                    0   \n",
       "2            1        1               1                0                    0   \n",
       "3            1        1               1                0                    0   \n",
       "4            0        1               1                0                    0   \n",
       "\n",
       "   TV  Washer  Washer / Dryer  Wheelchair Accessible  Wireless Internet  \n",
       "0   1       1               0                      0                  1  \n",
       "1   1       1               0                      0                  1  \n",
       "2   1       1               0                      0                  1  \n",
       "3   1       1               0                      0                  1  \n",
       "4   0       0               0                      0                  1  \n",
       "\n",
       "[5 rows x 43 columns]"
      ]
     },
     "execution_count": 15,
     "metadata": {},
     "output_type": "execute_result"
    }
   ],
   "source": [
    "# select amenities\n",
    "amenities = data[data.columns[25:68]]\n",
    "amenities.head()"
   ]
  },
  {
   "cell_type": "code",
   "execution_count": 16,
   "metadata": {},
   "outputs": [
    {
     "data": {
      "text/plain": [
       "0"
      ]
     },
     "execution_count": 16,
     "metadata": {},
     "output_type": "execute_result"
    }
   ],
   "source": [
    "# no null values\n",
    "amenities.isnull().sum().sum()"
   ]
  },
  {
   "cell_type": "code",
   "execution_count": 17,
   "metadata": {},
   "outputs": [],
   "source": [
    "# number of properties with each amenities\n",
    "amenities = pd.DataFrame(amenities.sum()).reset_index()\n",
    "amenities.columns = ['amenities', 'n observations']\n",
    "amenities['proportion'] = amenities['n observations'] / data.shape[0]\n",
    "amenities = amenities.sort_values(by='n observations', ascending=False)\n",
    "amenities = amenities.reset_index(drop=True)"
   ]
  },
  {
   "cell_type": "code",
   "execution_count": 18,
   "metadata": {},
   "outputs": [
    {
     "data": {
      "image/png": "[encoded data removed]",
      "text/plain": [
       "<Figure size 720x576 with 1 Axes>"
      ]
     },
     "metadata": {
      "needs_background": "light"
     },
     "output_type": "display_data"
    }
   ],
   "source": [
    "# plot\n",
    "amenities.plot.barh(x='amenities', y='proportion', color='purple', figsize=(10,8))\n",
    "plt.tight_layout()\n",
    "plt.savefig('figures/amenities.png')\n",
    "plt.show()"
   ]
  },
  {
   "cell_type": "code",
   "execution_count": 19,
   "metadata": {},
   "outputs": [
    {
     "data": {
      "text/html": [
       "<div>\n",
       "<style scoped>\n",
       "    .dataframe tbody tr th:only-of-type {\n",
       "        vertical-align: middle;\n",
       "    }\n",
       "\n",
       "    .dataframe tbody tr th {\n",
       "        vertical-align: top;\n",
       "    }\n",
       "\n",
       "    .dataframe thead th {\n",
       "        text-align: right;\n",
       "    }\n",
       "</style>\n",
       "<table border=\"1\" class=\"dataframe\">\n",
       "  <thead>\n",
       "    <tr style=\"text-align: right;\">\n",
       "      <th></th>\n",
       "      <th>amenities</th>\n",
       "      <th>n observations</th>\n",
       "      <th>proportion</th>\n",
       "    </tr>\n",
       "  </thead>\n",
       "  <tbody>\n",
       "    <tr>\n",
       "      <th>0</th>\n",
       "      <td>Wireless Internet</td>\n",
       "      <td>3421</td>\n",
       "      <td>0.954254</td>\n",
       "    </tr>\n",
       "    <tr>\n",
       "      <th>1</th>\n",
       "      <td>Heating</td>\n",
       "      <td>3384</td>\n",
       "      <td>0.943933</td>\n",
       "    </tr>\n",
       "    <tr>\n",
       "      <th>2</th>\n",
       "      <td>Kitchen</td>\n",
       "      <td>3284</td>\n",
       "      <td>0.916039</td>\n",
       "    </tr>\n",
       "    <tr>\n",
       "      <th>3</th>\n",
       "      <td>Essentials</td>\n",
       "      <td>2994</td>\n",
       "      <td>0.835146</td>\n",
       "    </tr>\n",
       "    <tr>\n",
       "      <th>4</th>\n",
       "      <td>Smoke Detector</td>\n",
       "      <td>2911</td>\n",
       "      <td>0.811994</td>\n",
       "    </tr>\n",
       "    <tr>\n",
       "      <th>5</th>\n",
       "      <td>Air Conditioning</td>\n",
       "      <td>2821</td>\n",
       "      <td>0.786890</td>\n",
       "    </tr>\n",
       "    <tr>\n",
       "      <th>6</th>\n",
       "      <td>TV</td>\n",
       "      <td>2607</td>\n",
       "      <td>0.727197</td>\n",
       "    </tr>\n",
       "    <tr>\n",
       "      <th>7</th>\n",
       "      <td>Internet</td>\n",
       "      <td>2577</td>\n",
       "      <td>0.718828</td>\n",
       "    </tr>\n",
       "    <tr>\n",
       "      <th>8</th>\n",
       "      <td>Dryer</td>\n",
       "      <td>2476</td>\n",
       "      <td>0.690656</td>\n",
       "    </tr>\n",
       "    <tr>\n",
       "      <th>9</th>\n",
       "      <td>Washer</td>\n",
       "      <td>2475</td>\n",
       "      <td>0.690377</td>\n",
       "    </tr>\n",
       "    <tr>\n",
       "      <th>10</th>\n",
       "      <td>Carbon Monoxide Detector</td>\n",
       "      <td>2442</td>\n",
       "      <td>0.681172</td>\n",
       "    </tr>\n",
       "    <tr>\n",
       "      <th>11</th>\n",
       "      <td>Shampoo</td>\n",
       "      <td>2421</td>\n",
       "      <td>0.675314</td>\n",
       "    </tr>\n",
       "    <tr>\n",
       "      <th>12</th>\n",
       "      <td>Hangers</td>\n",
       "      <td>1985</td>\n",
       "      <td>0.553696</td>\n",
       "    </tr>\n",
       "    <tr>\n",
       "      <th>13</th>\n",
       "      <td>Family/Kid Friendly</td>\n",
       "      <td>1888</td>\n",
       "      <td>0.526639</td>\n",
       "    </tr>\n",
       "    <tr>\n",
       "      <th>14</th>\n",
       "      <td>Laptop Friendly Workspace</td>\n",
       "      <td>1834</td>\n",
       "      <td>0.511576</td>\n",
       "    </tr>\n",
       "    <tr>\n",
       "      <th>15</th>\n",
       "      <td>Iron</td>\n",
       "      <td>1828</td>\n",
       "      <td>0.509902</td>\n",
       "    </tr>\n",
       "    <tr>\n",
       "      <th>16</th>\n",
       "      <td>Hair Dryer</td>\n",
       "      <td>1811</td>\n",
       "      <td>0.505160</td>\n",
       "    </tr>\n",
       "    <tr>\n",
       "      <th>17</th>\n",
       "      <td>Cable TV</td>\n",
       "      <td>1770</td>\n",
       "      <td>0.493724</td>\n",
       "    </tr>\n",
       "    <tr>\n",
       "      <th>18</th>\n",
       "      <td>Fire Extinguisher</td>\n",
       "      <td>1582</td>\n",
       "      <td>0.441283</td>\n",
       "    </tr>\n",
       "    <tr>\n",
       "      <th>19</th>\n",
       "      <td>24-Hour Check-in</td>\n",
       "      <td>1247</td>\n",
       "      <td>0.347838</td>\n",
       "    </tr>\n",
       "    <tr>\n",
       "      <th>20</th>\n",
       "      <td>First Aid Kit</td>\n",
       "      <td>1063</td>\n",
       "      <td>0.296513</td>\n",
       "    </tr>\n",
       "    <tr>\n",
       "      <th>21</th>\n",
       "      <td>Elevator in Building</td>\n",
       "      <td>868</td>\n",
       "      <td>0.242120</td>\n",
       "    </tr>\n",
       "    <tr>\n",
       "      <th>22</th>\n",
       "      <td>Buzzer/Wireless Intercom</td>\n",
       "      <td>839</td>\n",
       "      <td>0.234031</td>\n",
       "    </tr>\n",
       "    <tr>\n",
       "      <th>23</th>\n",
       "      <td>Free Parking on Premises</td>\n",
       "      <td>831</td>\n",
       "      <td>0.231799</td>\n",
       "    </tr>\n",
       "    <tr>\n",
       "      <th>24</th>\n",
       "      <td>Pets Allowed</td>\n",
       "      <td>486</td>\n",
       "      <td>0.135565</td>\n",
       "    </tr>\n",
       "    <tr>\n",
       "      <th>25</th>\n",
       "      <td>Gym</td>\n",
       "      <td>479</td>\n",
       "      <td>0.133612</td>\n",
       "    </tr>\n",
       "    <tr>\n",
       "      <th>26</th>\n",
       "      <td>Lock on Bedroom Door</td>\n",
       "      <td>474</td>\n",
       "      <td>0.132218</td>\n",
       "    </tr>\n",
       "    <tr>\n",
       "      <th>27</th>\n",
       "      <td>Safety Card</td>\n",
       "      <td>458</td>\n",
       "      <td>0.127755</td>\n",
       "    </tr>\n",
       "    <tr>\n",
       "      <th>28</th>\n",
       "      <td>Pets live on this property</td>\n",
       "      <td>429</td>\n",
       "      <td>0.119665</td>\n",
       "    </tr>\n",
       "    <tr>\n",
       "      <th>29</th>\n",
       "      <td>Indoor Fireplace</td>\n",
       "      <td>393</td>\n",
       "      <td>0.109623</td>\n",
       "    </tr>\n",
       "    <tr>\n",
       "      <th>30</th>\n",
       "      <td>Breakfast</td>\n",
       "      <td>316</td>\n",
       "      <td>0.088145</td>\n",
       "    </tr>\n",
       "    <tr>\n",
       "      <th>31</th>\n",
       "      <td>Doorman</td>\n",
       "      <td>268</td>\n",
       "      <td>0.074756</td>\n",
       "    </tr>\n",
       "    <tr>\n",
       "      <th>32</th>\n",
       "      <td>Dog(s)</td>\n",
       "      <td>229</td>\n",
       "      <td>0.063877</td>\n",
       "    </tr>\n",
       "    <tr>\n",
       "      <th>33</th>\n",
       "      <td>Cat(s)</td>\n",
       "      <td>181</td>\n",
       "      <td>0.050488</td>\n",
       "    </tr>\n",
       "    <tr>\n",
       "      <th>34</th>\n",
       "      <td>Hot Tub</td>\n",
       "      <td>167</td>\n",
       "      <td>0.046583</td>\n",
       "    </tr>\n",
       "    <tr>\n",
       "      <th>35</th>\n",
       "      <td>Pool</td>\n",
       "      <td>160</td>\n",
       "      <td>0.044630</td>\n",
       "    </tr>\n",
       "    <tr>\n",
       "      <th>36</th>\n",
       "      <td>Wheelchair Accessible</td>\n",
       "      <td>148</td>\n",
       "      <td>0.041283</td>\n",
       "    </tr>\n",
       "    <tr>\n",
       "      <th>37</th>\n",
       "      <td>Suitable for Events</td>\n",
       "      <td>138</td>\n",
       "      <td>0.038494</td>\n",
       "    </tr>\n",
       "    <tr>\n",
       "      <th>38</th>\n",
       "      <td>Smoking Allowed</td>\n",
       "      <td>95</td>\n",
       "      <td>0.026499</td>\n",
       "    </tr>\n",
       "    <tr>\n",
       "      <th>39</th>\n",
       "      <td>Other pet(s)</td>\n",
       "      <td>16</td>\n",
       "      <td>0.004463</td>\n",
       "    </tr>\n",
       "    <tr>\n",
       "      <th>40</th>\n",
       "      <td>Free Parking on Street</td>\n",
       "      <td>9</td>\n",
       "      <td>0.002510</td>\n",
       "    </tr>\n",
       "    <tr>\n",
       "      <th>41</th>\n",
       "      <td>Paid Parking Off Premises</td>\n",
       "      <td>4</td>\n",
       "      <td>0.001116</td>\n",
       "    </tr>\n",
       "    <tr>\n",
       "      <th>42</th>\n",
       "      <td>Washer / Dryer</td>\n",
       "      <td>2</td>\n",
       "      <td>0.000558</td>\n",
       "    </tr>\n",
       "  </tbody>\n",
       "</table>\n",
       "</div>"
      ],
      "text/plain": [
       "                     amenities  n observations  proportion\n",
       "0            Wireless Internet            3421    0.954254\n",
       "1                      Heating            3384    0.943933\n",
       "2                      Kitchen            3284    0.916039\n",
       "3                   Essentials            2994    0.835146\n",
       "4               Smoke Detector            2911    0.811994\n",
       "5             Air Conditioning            2821    0.786890\n",
       "6                           TV            2607    0.727197\n",
       "7                     Internet            2577    0.718828\n",
       "8                        Dryer            2476    0.690656\n",
       "9                       Washer            2475    0.690377\n",
       "10    Carbon Monoxide Detector            2442    0.681172\n",
       "11                     Shampoo            2421    0.675314\n",
       "12                     Hangers            1985    0.553696\n",
       "13         Family/Kid Friendly            1888    0.526639\n",
       "14   Laptop Friendly Workspace            1834    0.511576\n",
       "15                        Iron            1828    0.509902\n",
       "16                  Hair Dryer            1811    0.505160\n",
       "17                    Cable TV            1770    0.493724\n",
       "18           Fire Extinguisher            1582    0.441283\n",
       "19            24-Hour Check-in            1247    0.347838\n",
       "20               First Aid Kit            1063    0.296513\n",
       "21        Elevator in Building             868    0.242120\n",
       "22    Buzzer/Wireless Intercom             839    0.234031\n",
       "23    Free Parking on Premises             831    0.231799\n",
       "24                Pets Allowed             486    0.135565\n",
       "25                         Gym             479    0.133612\n",
       "26        Lock on Bedroom Door             474    0.132218\n",
       "27                 Safety Card             458    0.127755\n",
       "28  Pets live on this property             429    0.119665\n",
       "29            Indoor Fireplace             393    0.109623\n",
       "30                   Breakfast             316    0.088145\n",
       "31                     Doorman             268    0.074756\n",
       "32                      Dog(s)             229    0.063877\n",
       "33                      Cat(s)             181    0.050488\n",
       "34                     Hot Tub             167    0.046583\n",
       "35                        Pool             160    0.044630\n",
       "36       Wheelchair Accessible             148    0.041283\n",
       "37         Suitable for Events             138    0.038494\n",
       "38             Smoking Allowed              95    0.026499\n",
       "39                Other pet(s)              16    0.004463\n",
       "40      Free Parking on Street               9    0.002510\n",
       "41   Paid Parking Off Premises               4    0.001116\n",
       "42              Washer / Dryer               2    0.000558"
      ]
     },
     "execution_count": 19,
     "metadata": {},
     "output_type": "execute_result"
    }
   ],
   "source": [
    "amenities"
   ]
  }
 ],
 "metadata": {
  "kernelspec": {
   "display_name": "Python 3",
   "language": "python",
   "name": "python3"
  },
  "language_info": {
   "codemirror_mode": {
    "name": "ipython",
    "version": 3
   },
   "file_extension": ".py",
   "mimetype": "text/x-python",
   "name": "python",
   "nbconvert_exporter": "python",
   "pygments_lexer": "ipython3",
   "version": "3.7.7"
  }
 },
 "nbformat": 4,
 "nbformat_minor": 4
}
